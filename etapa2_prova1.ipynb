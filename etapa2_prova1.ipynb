{
  "nbformat": 4,
  "nbformat_minor": 0,
  "metadata": {
    "colab": {
      "provenance": [],
      "authorship_tag": "ABX9TyP83ammUcoLfuh/fmXVYNGw",
      "include_colab_link": true
    },
    "kernelspec": {
      "name": "python3",
      "display_name": "Python 3"
    },
    "language_info": {
      "name": "python"
    }
  },
  "cells": [
    {
      "cell_type": "markdown",
      "metadata": {
        "id": "view-in-github",
        "colab_type": "text"
      },
      "source": [
        "<a href=\"https://colab.research.google.com/github/italo-venancio/etapa02_prova01_estruturas_de_dados/blob/main/etapa2_prova1.ipynb\" target=\"_parent\"><img src=\"https://colab.research.google.com/assets/colab-badge.svg\" alt=\"Open In Colab\"/></a>"
      ]
    },
    {
      "cell_type": "markdown",
      "source": [
        "# **Algoritmos de ordenação** "
      ],
      "metadata": {
        "id": "g40n7mfPA6-x"
      }
    },
    {
      "cell_type": "markdown",
      "source": [
        "# Insertion Sort\n",
        "O insertion sort não é considerado um algoritmo muito rápido, tendo em vista que ele possui um loop dentro de outro em sua implementação, isso faz com que ele apresente complexidade exponencial, ou seja, O(n**2). Entretanto, ele pode ser útil para ordenar conjuntos de dados relativamente pequenos.\n",
        "\n",
        "Seu funcionamento compreende percorrer o vetor de entrada tendo um número como marcador, ele determina o lado que já está ordenado, e o que ainda está por ordenar. O marcador vai sendo comparado a cada item até encontrar o local correto na sequência, depois disso, o item seguinte se torna o novo marcador.\n"
      ],
      "metadata": {
        "id": "D3D4lwgmDN-0"
      }
    },
    {
      "cell_type": "code",
      "source": [
        "def insertion_sort(vetor):\n",
        "  n = len(vetor)\n",
        "\n",
        "  for i in range(n):\n",
        "    marcador = vetor[i]\n",
        "    j = i-1\n",
        "    while j >= 0 and marcador < vetor[j]:\n",
        "      vetor[j+1] = vetor [j]\n",
        "      j -= 1\n",
        "    vetor[j+1]=marcador\n",
        "  return vetor"
      ],
      "metadata": {
        "id": "qcEyLCdK_Dqf"
      },
      "execution_count": null,
      "outputs": []
    },
    {
      "cell_type": "markdown",
      "source": [
        "# Merge Sort\n",
        "O merge sort caracteriza-se por separar o vetor pela metade múltiplas vezes, até o tamanho mínimo ser atingido, então, os subvetores vão sendo combinados através de comparações entre os itens até formar-se o vetor de saída com os itens ordenados. \n",
        "Essa abordagem é recursiva, e segue o conceito de dividir para conquistar, porque divide a tarefa em partes menores. É bastante eficiente com grandes conjuntos de dados.\n",
        "Sua complexidade é de O(n log n), pois o algoritmo acessa cada item para cada mescla entre os subvetores."
      ],
      "metadata": {
        "id": "skmgx75hkiz-"
      }
    },
    {
      "cell_type": "code",
      "source": [
        "def merge_sort(vetor):\n",
        "  # sao passados o vetor, o indice inicial, e o indice final\n",
        "  merge_sort2(vetor, 0, len(vetor)-1)\n",
        "\n",
        "def merge_sort2(vetor, primeiro, ultimo):\n",
        "  # se o vetor tem mais de um item\n",
        "  if primeiro < ultimo:\n",
        "    # divide-se o vetor ao meio\n",
        "    meio = (primeiro + ultimo) // 2\n",
        "    merge_sort2(vetor, primeiro, meio)\n",
        "    merge_sort2(vetor, meio+1, ultimo)\n",
        "    # combina-se as metades\n",
        "    merge(vetor, primeiro, meio, ultimo)\n",
        "\n",
        "def merge(vetor, primeiro, meio, ultimo):\n",
        "  n1 = meio - primeiro + 1\n",
        "  n2 = ultimo - meio\n",
        "\n",
        "  # vetores temporarios\n",
        "  esquerda = [0] * (n1)\n",
        "  direita = [0] * (n2)\n",
        "\n",
        "  # copiar itens para vetores temporarios\n",
        "  for i in range(0, n1):\n",
        "    esquerda[i] = vetor[primeiro + i]\n",
        "\n",
        "  for j in range(0, n2):\n",
        "    direita[j] = vetor[meio + 1 + j]\n",
        "\n",
        "  # indice inicial dos subvetores\n",
        "  i = j = 0\n",
        "  # indice inicial do subvetor mesclado\n",
        "  k = primeiro\n",
        "\n",
        "  while i < n1 and j < n2:\n",
        "    if esquerda[i] <= direita[j]:\n",
        "      vetor[k] = esquerda[i]\n",
        "      i += 1\n",
        "    else: \n",
        "      vetor[k] = direita[j]\n",
        "      j += 1\n",
        "    k += 1\n",
        "\n",
        "  # copiar itens restantes dos subvetores, se houver\n",
        "  while i < n1:\n",
        "    vetor[k] = esquerda[i]\n",
        "    i += 1\n",
        "    k += 1\n",
        "\n",
        "  while j < n2:\n",
        "    vetor[k] = direita[j]\n",
        "    j += 1\n",
        "    k += 1"
      ],
      "metadata": {
        "id": "BxABnv0CkmkQ"
      },
      "execution_count": null,
      "outputs": []
    },
    {
      "cell_type": "markdown",
      "source": [
        "# Quick Sort\n",
        "O algoritmo quick sort segue o conceito de dividir para conquistar, sendo eficiente para grandes conjuntos de dados. Sua complexidade média é de O(n log n). No pior caso, sua complexidade é de O(n**2).\n",
        "\n",
        "Seleciona-se um pivô entre os itens, podendo ser o primeiro item no vetor, o último item, um valor mediano entre eles, ou ainda pode ser selecionado de modo aleatório. Ele é usado como uma referência para separar o vetor e para ser comparado com os itens, ao fim das comparações, os itens que estão à esquerda são menores que o pivô, e os que estão à direita são maiores.\n",
        "Por meio de recursão, o processo se repete até que todos os itens sejam ordenados. A performance do algoritmo depende da forma como o pivô é selecionado, o ideal é que esse pivô esteja próximo ao meio na ordem numérica dos valores."
      ],
      "metadata": {
        "id": "PCo0tai1Tz8T"
      }
    },
    {
      "cell_type": "code",
      "source": [
        "def quick_sort(vetor):\n",
        "\tquick_sort2(vetor, 0, len(vetor)-1)\n",
        "\t\n",
        "def quick_sort2(vetor, esquerda, direita):\n",
        "\t# se ha mais de um item para ser ordenado\n",
        "\tif esquerda < direita:\n",
        "\t\tp = particao(vetor, esquerda, direita)\n",
        "\t\tquick_sort2(vetor, esquerda, p - 1)\n",
        "\t\tquick_sort2(vetor, p + 1, direita)\n",
        "\n",
        "# calcula-se o indice do pivo mais apropriado\n",
        "def seleciona_pivo(vetor, esquerda, direita):\n",
        "\tmeio = (direita + esquerda) // 2\n",
        "\tpivo = direita\n",
        "\tif vetor[esquerda] < vetor[meio]:\n",
        "\t\tif vetor[meio] < vetor[direita]:\n",
        "\t\t\tpivo = meio\n",
        "\telif vetor[esquerda] < vetor[direita]:\n",
        "\t\tpivo = esquerda\n",
        "\t\t\n",
        "\treturn pivo\n",
        "\n",
        "def particao(vetor, esquerda, direita):\n",
        "\tindice_pivo = seleciona_pivo(vetor, esquerda, direita)\n",
        "\tvalor_pivo = vetor[indice_pivo]\n",
        "\tvetor[indice_pivo], vetor[esquerda] = vetor[esquerda], vetor[indice_pivo]\n",
        "\t# borda eh uma variavel de controle \n",
        "\t# para indicar os numeros que ja foram comparados ao pivo \n",
        "\tborda = esquerda\n",
        "\n",
        "\tfor i in range(esquerda, direita+1):\n",
        "\t\tif vetor[i] < valor_pivo:\n",
        "\t\t\tborda += 1\n",
        "\t\t\tvetor[i], vetor[borda] = vetor[borda], vetor[i]\n",
        "\tvetor[esquerda], vetor[borda] = vetor[borda], vetor[esquerda]\n",
        "\n",
        "\treturn (borda)"
      ],
      "metadata": {
        "id": "PYgKbHSBgO8r"
      },
      "execution_count": null,
      "outputs": []
    },
    {
      "cell_type": "markdown",
      "source": [
        "# Bucket Sort\n",
        "No bucket sort, os elementos são separados em vários grupos chamados buckets. Cada bucket é ordenado individualmente usando outros algoritmos ou usando o próprio bucket sort por meio de recursão. Depois disso, os elementos ordenados nos buckets são reagrupados em um único vetor. \n",
        "\n",
        "Os buckets se baseiam no alcance, dependendo do maior e do menor número dentro do vetor. Esse algoritmo é recomendado quando os dados de entrada estão distribuídos uniformemente dentro de um intervalo numérico.\n",
        "\n",
        "A complexidade média do bucket sort é O(n + k), em que n é a quantidade de elementos no vetor, e k é a quantidade de buckets. No pior caso, a complexidade é O(n**2). Ele pode ser muito rápido pela forma como os elementos são organizados nos buckets, mas para isso, é necessária muita memória auxiliar."
      ],
      "metadata": {
        "id": "veAtMeA5avqy"
      }
    },
    {
      "cell_type": "code",
      "source": [
        "from math import floor\n",
        "\n",
        "def bucket_sort(vetor):\n",
        "    tamanho = len(vetor)\n",
        "    maximo = max(vetor)\n",
        "    minimo = min(vetor)\n",
        "    \n",
        "    # bucket_range eh o intervalo numerico aplicado em cada bucket\n",
        "    bucket_range = (maximo-minimo) / tamanho\n",
        "    \n",
        "    # buckets eh o vetor que vai armazenar cada bucket\n",
        "    buckets = []\n",
        "    for i in range(tamanho+1):\n",
        "        buckets.append([])\n",
        "    \n",
        "    # os elementos sao inseridos nos respectivos buckets\n",
        "    for i in range(tamanho):\n",
        "        bucket_index = floor((vetor[i]-minimo) / bucket_range)\n",
        "        buckets[bucket_index].append(vetor[i])\n",
        "    \n",
        "    # ordenar o conteudo de cada bucket\n",
        "    for i in range(len(buckets)):\n",
        "        buckets[i].sort()\n",
        "    \n",
        "    # por fim, reagrupar os elementos ordenados no vetor original\n",
        "    vetor.clear()\n",
        "    for i in range(tamanho):\n",
        "        for j in range(len(buckets[i])):\n",
        "            vetor.append(buckets[i][j])\n",
        "    return vetor"
      ],
      "metadata": {
        "id": "OL9D9dAQl31z"
      },
      "execution_count": null,
      "outputs": []
    },
    {
      "cell_type": "markdown",
      "source": [
        "# Radix Sort\n",
        "O conceito por trás do radix sort é ordenar seguindo dígito por dígito, começando do menos significante para o mais significante.\n",
        "\n",
        "Para cada dígito, o vetor é percorrido e o item é armazenado no bucket que corresponde ao dígito referente à iteração. Depois, os números ordenados nos buckets são recolocados no vetor.\n",
        "\n",
        "A complexidade média é O(n*d), onde n é a quantidade de elementos, e d é o comprimento do maior elemento. Ele é muito rápido em grandes listas de valores numéricos curtos, e não possui comparações na implementação.\n",
        "Se os dados são números decimais, cria-se 10 buckets; se os dados são strings, cria-se 26 buckets."
      ],
      "metadata": {
        "id": "J0XzXUwxvWqd"
      }
    },
    {
      "cell_type": "code",
      "source": [
        "def radix_sort(vetor):\n",
        "  # encontar o maior numero para saber o numero de digitos\n",
        "  maximo = max(vetor)\n",
        "  # executar contagem para cada digito\n",
        "  exp = 1\n",
        "  while maximo / exp >= 1:\n",
        "    contagem(vetor, exp)\n",
        "    exp *= 10\n",
        "\n",
        "def contagem(vetor, exp1):\n",
        "  n = len(vetor)\n",
        "  # saida vai ter os elementos ordenados\n",
        "  saida = [0] * (n)\n",
        "  # inicializar o vetor de contagem como zero\n",
        "  count = [0] * (10)\n",
        "\n",
        "  # armazenar as ocorrencias em count\n",
        "  for i in range (0, n):\n",
        "    index = vetor[i] // exp1\n",
        "    count[index % 10] += 1\n",
        "\n",
        "  # count[i] vai armazenar as posicoes dos digitos na saida\n",
        "  for i in range(1, 10):\n",
        "    count[i] += count[i-1]\n",
        "\n",
        "  # construir o vetor de saida\n",
        "  i = n - 1\n",
        "  while i >= 0:\n",
        "    index = vetor[i] // exp1\n",
        "    saida[count[index % 10] - 1] = vetor[i]\n",
        "    count[index % 10] -= 1\n",
        "    i -= 1\n",
        "\n",
        "  i = 0\n",
        "  for i in range(0, len(vetor)):\n",
        "    vetor[i] = saida[i]"
      ],
      "metadata": {
        "id": "59iT6jokvZhm"
      },
      "execution_count": null,
      "outputs": []
    },
    {
      "cell_type": "markdown",
      "source": [
        "# Funções auxiliares"
      ],
      "metadata": {
        "id": "jamU4R-dNHJZ"
      }
    },
    {
      "cell_type": "code",
      "execution_count": null,
      "metadata": {
        "id": "gsHjR5mzAvqs"
      },
      "outputs": [],
      "source": [
        "\"\"\"\n",
        "Funcao para gerar vetor de numeros aleatorios\n",
        "os numeros sao selecionados dentro de um intervalo duas vezes maior que o tamanho fornecido\n",
        "\"\"\"\n",
        "import random\n",
        "\n",
        "def gerar_vetor(n):\n",
        "  nums = [random.randint(0, 2*(10**n)) for _ in range(10**n)]\n",
        "\n",
        "  return nums "
      ]
    },
    {
      "cell_type": "code",
      "source": [
        "\"\"\"\n",
        "Funcao para executar os algoritmos\n",
        "recebe o nome do algoritmo que sera utilizado\n",
        "recebe o numero expoente que sera aplicado a base 10 para determinar o tamanho do vetor\n",
        "retorna o tempo que o algoritmo levou para ordenar os numeros\n",
        "\"\"\"\n",
        "import time\n",
        "\n",
        "def executar_algoritmo_ordenacao(algoritmo, tamanho):\n",
        "  vetor = gerar_vetor(tamanho)\n",
        "  start = time.time()\n",
        "  algoritmo(vetor)\n",
        "  tempo_gasto = round(time.time() - start, 6)\n",
        "  \n",
        "  return tempo_gasto\n"
      ],
      "metadata": {
        "id": "rKGnNKaBbG8t"
      },
      "execution_count": null,
      "outputs": []
    },
    {
      "cell_type": "code",
      "source": [
        "\"\"\"\n",
        "Funcao para obter o eixo y que sera usado para plotar o grafico comparativo\n",
        "retorna uma lista com os valores correspondentes ao tempo gasto para ordenar cada vetor  \n",
        "\"\"\"\n",
        "def testa_tempo(algoritmo, tamanho):\n",
        "  tempo = []\n",
        "  \n",
        "  for i in range(1, tamanho+1):\n",
        "    tempo.append(executar_algoritmo_ordenacao(algoritmo, i))\n",
        "    \n",
        "  return tempo"
      ],
      "metadata": {
        "id": "o2cojFfktwan"
      },
      "execution_count": null,
      "outputs": []
    },
    {
      "cell_type": "markdown",
      "source": [
        "# Gráfico comparativo"
      ],
      "metadata": {
        "id": "h6npq6Nv-1Wl"
      }
    },
    {
      "cell_type": "code",
      "source": [
        "# instalacao da biblioteca\n",
        "!pip install matplotlib"
      ],
      "metadata": {
        "id": "72XLNKTrSZbd"
      },
      "execution_count": null,
      "outputs": []
    },
    {
      "cell_type": "code",
      "source": [
        "from matplotlib import pyplot as plt\n",
        "import numpy as np\n",
        "import time\n",
        "\n",
        "tamanho_vetor = 4\n",
        "eixo_x = []\n",
        "for i in range(1, tamanho_vetor+1):\n",
        "  eixo_x.append('10**'+str(i))\n",
        "\n",
        "insertion_y = testa_tempo(insertion_sort, tamanho_vetor)\n",
        "print(f\"insertion: {insertion_y}\")\n",
        "plt.plot(eixo_x, insertion_y, color='#fe011f', label='Insertion Sort', marker='o')\n",
        "\n",
        "merge_y = testa_tempo(merge_sort, tamanho_vetor)\n",
        "print(f\"merge: {merge_y}\")\n",
        "plt.plot(eixo_x, merge_y, color='#52307c', label='Merge Sort', marker='o')\n",
        "\n",
        "quick_y = testa_tempo(quick_sort, tamanho_vetor)\n",
        "print(f\"quick: {quick_y}\")\n",
        "plt.plot(eixo_x, quick_y, color='#fd861e', label='Quick Sort', marker='o')\n",
        "\n",
        "bucket_y = testa_tempo(bucket_sort, tamanho_vetor)\n",
        "print(f\"bucket: {bucket_y}\")\n",
        "plt.plot(eixo_x, bucket_y, color='#00af4d', label='Bucket Sort', marker='o')\n",
        "\n",
        "radix_y = testa_tempo(radix_sort, tamanho_vetor)\n",
        "print(f\"radix: {radix_y}\")\n",
        "plt.plot(eixo_x, radix_y, color='#0752f8', label='Radix Sort', marker='o')\n",
        "\n",
        "plt.xlabel('Tamanho do vetor')\n",
        "plt.ylabel('Tempo(seg)')\n",
        "plt.title('Comparacao dos algoritmos')\n",
        "\n",
        "plt.legend()\n",
        "\n",
        "plt.show()"
      ],
      "metadata": {
        "id": "ctfSkriiSv7-",
        "colab": {
          "base_uri": "https://localhost:8080/",
          "height": 382
        },
        "outputId": "f02e3dbb-71bb-4f83-dc6c-807eed0aa6ea"
      },
      "execution_count": 27,
      "outputs": [
        {
          "output_type": "stream",
          "name": "stdout",
          "text": [
            "insertion: [0.002117, 0.001296, 0.049224, 5.2775]\n",
            "merge: [4e-05, 0.000457, 0.005199, 0.06584]\n",
            "quick: [2.6e-05, 0.000217, 0.002111, 0.028113]\n",
            "bucket: [2.3e-05, 0.000123, 0.000997, 0.014098]\n",
            "radix: [2.9e-05, 0.000204, 0.002543, 0.033453]\n"
          ]
        },
        {
          "output_type": "display_data",
          "data": {
            "text/plain": [
              "<Figure size 432x288 with 1 Axes>"
            ],
            "image/png": "[encoded data removed]"
          },
          "metadata": {
            "needs_background": "light"
          }
        }
      ]
    },
    {
      "cell_type": "markdown",
      "source": [
        "**Outras comparações**"
      ],
      "metadata": {
        "id": "CQ4-aKNgzlFT"
      }
    },
    {
      "cell_type": "markdown",
      "source": [
        "<img src=\"https://github.com/italo-venancio/imagens/blob/main/grafico_04a.png?raw=true\" alt=\"Grafico 10**4\" width=500>\n",
        "\n",
        "\n",
        "merge: [6.9e-05, 0.000794, 0.00708, 0.065355]\n",
        "\n",
        "quick: [2.1e-05, 0.000173, 0.002316, 0.030279]\n",
        "\n",
        "bucket: [2.5e-05, 0.000244, 0.001046, 0.011948]\n",
        "\n",
        "radix: [4.5e-05, 0.000191, 0.002562, 0.035364]"
      ],
      "metadata": {
        "id": "aHz8MLhyG7oP"
      }
    },
    {
      "cell_type": "markdown",
      "source": [
        "<img src=\"https://github.com/italo-venancio/imagens/blob/main/grafico_07a.png?raw=true\" alt=\"Grafico 10**7\" width=500>\n",
        "\n",
        "\n",
        "merge: [5.5e-05, 0.001168, 0.00582, 0.077226, 0.892769, 11.195962, 148.691278]\n",
        "\n",
        "quick: [2.9e-05, 0.000161, 0.002267, 0.031822, 0.388885, 5.349087, 68.306587]\n",
        "\n",
        "bucket: [2.8e-05, 0.000111, 0.001098, 0.011106, 0.194564, 2.821452, 31.352742]\n",
        "\n",
        "radix: [8.7e-05, 0.00033, 0.00541, 0.033913, 0.47981, 8.049829, 105.307719]\n",
        "\n",
        "\n",
        "\n",
        "\n",
        "\n"
      ],
      "metadata": {
        "id": "9bn20DC5_AhH"
      }
    }
  ]
}